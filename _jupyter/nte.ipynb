{
 "cells": [
  {
   "cell_type": "markdown",
   "metadata": {},
   "source": [
    "# Develop the NTE "
   ]
  },
  {
   "cell_type": "code",
   "execution_count": 14,
   "metadata": {},
   "outputs": [],
   "source": [
    "import pickle\n",
    "import pandas as pd\n",
    "import os\n",
    "\n",
    "import nte\n",
    "reload(nte)\n",
    "from nte import *\n",
    "\n",
    "# set up your pool\n",
    "from multiprocessing import Pool\n",
    "pool = Pool(processes=12)"
   ]
  },
  {
   "cell_type": "markdown",
   "metadata": {},
   "source": [
    "## Setup the Paths and Pool"
   ]
  },
  {
   "cell_type": "code",
   "execution_count": 2,
   "metadata": {},
   "outputs": [],
   "source": [
    "with open('./Data/NOxPaths.pickle', 'r') as handle:\n",
    "    paths = pickle.load(handle)"
   ]
  },
  {
   "cell_type": "code",
   "execution_count": 3,
   "metadata": {},
   "outputs": [],
   "source": [
    "mac = lambda x: x.replace(\"E:\",\"/Volumes/Fleet Storage\")\n",
    "wnd = lambda x: x.replace(\"/\",\"\\\\\")"
   ]
  },
  {
   "cell_type": "code",
   "execution_count": 4,
   "metadata": {},
   "outputs": [],
   "source": [
    "# set up your pool\n",
    "pool = Pool(processes=12)"
   ]
  },
  {
   "cell_type": "markdown",
   "metadata": {},
   "source": [
    "## Read in data from csvs"
   ]
  },
  {
   "cell_type": "code",
   "execution_count": 5,
   "metadata": {},
   "outputs": [],
   "source": [
    "v_id = 12105\n",
    "vehicle_paths = [mac(x) for x in paths[v_id]][:10]"
   ]
  },
  {
   "cell_type": "code",
   "execution_count": 6,
   "metadata": {},
   "outputs": [
    {
     "name": "stdout",
     "output_type": "stream",
     "text": [
      "CPU times: user 42.3 ms, sys: 47.8 ms, total: 90 ms\n",
      "Wall time: 4.3 s\n"
     ]
    }
   ],
   "source": [
    "%%time\n",
    "# have your pool map the file names to dataframes\n",
    "dfs = pool.map(read_csv, vehicle_paths)\n",
    "\n",
    "# filter the dfs if longer than 500 rows (optional)\n",
    "dfs = [df for df in dfs if len(df) > 500]"
   ]
  },
  {
   "cell_type": "code",
   "execution_count": 7,
   "metadata": {},
   "outputs": [],
   "source": [
    "# lets concat the entire vehicles data (optional)\n",
    "df = pd.concat(dfs)\n",
    "df = df.reset_index()\n",
    "df = df.drop(['index'], axis=1)"
   ]
  },
  {
   "cell_type": "code",
   "execution_count": 8,
   "metadata": {},
   "outputs": [
    {
     "data": {
      "text/plain": [
       "0.030536352"
      ]
     },
     "execution_count": 8,
     "metadata": {},
     "output_type": "execute_result"
    }
   ],
   "source": [
    "from sys import getsizeof\n",
    "# how many gb of memory are being used?\n",
    "sum(map(getsizeof, dfs)) / 1e9"
   ]
  },
  {
   "cell_type": "markdown",
   "metadata": {},
   "source": [
    "## Results and Intermediate Results\n",
    "\n",
    "Once we run get_nte_proportions, we will have columns with True and False for each criteria, the gNOx for each moment, the work for each moment, and the window.\n",
    "\n",
    "- ```criteria='torq_criteria'```: only meets torq criteria\n",
    "- ```criteria='criterion'```: means all criteria must be met\n",
    "\n",
    "### Results"
   ]
  },
  {
   "cell_type": "code",
   "execution_count": 16,
   "metadata": {},
   "outputs": [],
   "source": [
    "# names of criteria for exploration\n",
    "criteria_cols = ['engine_speed_criteria','torq_criteria',\n",
    "                 'engine_air_temp_criteria','coolant_temp_criteria',\n",
    "                 'scr_temp_criteria']\n",
    "\n",
    "other_computed_cols = ['work', 'gNOx']\n",
    "\n",
    "all_nox_cols = other_computed_cols + criteria_cols + ['criterion']"
   ]
  },
  {
   "cell_type": "code",
   "execution_count": 55,
   "metadata": {},
   "outputs": [
    {
     "name": "stdout",
     "output_type": "stream",
     "text": [
      "CPU times: user 822 ms, sys: 64.7 ms, total: 887 ms\n",
      "Wall time: 861 ms\n"
     ]
    }
   ],
   "source": [
    "%%time\n",
    "# get the proportion\n",
    "prop_in_nte, prop_nte_testable = get_nte_proportion(df, \n",
    "                                 cutoff=.3, \n",
    "                                 criteria='criterion')"
   ]
  },
  {
   "cell_type": "code",
   "execution_count": 56,
   "metadata": {},
   "outputs": [
    {
     "name": "stdout",
     "output_type": "stream",
     "text": [
      "percent in nte: 0.00269008690405\n",
      "percent in nte testable 0.159622078568\n"
     ]
    }
   ],
   "source": [
    "print \"percent in nte:\", prop_in_nte\n",
    "print \"percent in nte testable\", prop_nte_testable"
   ]
  },
  {
   "cell_type": "code",
   "execution_count": 32,
   "metadata": {},
   "outputs": [
    {
     "data": {
      "text/html": [
       "<div>\n",
       "<style scoped>\n",
       "    .dataframe tbody tr th:only-of-type {\n",
       "        vertical-align: middle;\n",
       "    }\n",
       "\n",
       "    .dataframe tbody tr th {\n",
       "        vertical-align: top;\n",
       "    }\n",
       "\n",
       "    .dataframe thead th {\n",
       "        text-align: right;\n",
       "    }\n",
       "</style>\n",
       "<table border=\"1\" class=\"dataframe\">\n",
       "  <thead>\n",
       "    <tr style=\"text-align: right;\">\n",
       "      <th></th>\n",
       "      <th>work</th>\n",
       "      <th>gNOx</th>\n",
       "      <th>engine_speed_criteria</th>\n",
       "      <th>torq_criteria</th>\n",
       "      <th>engine_air_temp_criteria</th>\n",
       "      <th>coolant_temp_criteria</th>\n",
       "      <th>scr_temp_criteria</th>\n",
       "      <th>criterion</th>\n",
       "    </tr>\n",
       "  </thead>\n",
       "  <tbody>\n",
       "    <tr>\n",
       "      <th>0</th>\n",
       "      <td>0.000000</td>\n",
       "      <td>0.315958</td>\n",
       "      <td>False</td>\n",
       "      <td>False</td>\n",
       "      <td>False</td>\n",
       "      <td>False</td>\n",
       "      <td>False</td>\n",
       "      <td>False</td>\n",
       "    </tr>\n",
       "    <tr>\n",
       "      <th>1</th>\n",
       "      <td>-0.000000</td>\n",
       "      <td>0.284152</td>\n",
       "      <td>False</td>\n",
       "      <td>False</td>\n",
       "      <td>False</td>\n",
       "      <td>False</td>\n",
       "      <td>False</td>\n",
       "      <td>False</td>\n",
       "    </tr>\n",
       "    <tr>\n",
       "      <th>2</th>\n",
       "      <td>0.000874</td>\n",
       "      <td>0.289916</td>\n",
       "      <td>False</td>\n",
       "      <td>False</td>\n",
       "      <td>False</td>\n",
       "      <td>False</td>\n",
       "      <td>False</td>\n",
       "      <td>False</td>\n",
       "    </tr>\n",
       "    <tr>\n",
       "      <th>3</th>\n",
       "      <td>-0.000884</td>\n",
       "      <td>0.293036</td>\n",
       "      <td>False</td>\n",
       "      <td>False</td>\n",
       "      <td>False</td>\n",
       "      <td>False</td>\n",
       "      <td>False</td>\n",
       "      <td>False</td>\n",
       "    </tr>\n",
       "    <tr>\n",
       "      <th>4</th>\n",
       "      <td>-0.001771</td>\n",
       "      <td>0.292426</td>\n",
       "      <td>False</td>\n",
       "      <td>False</td>\n",
       "      <td>False</td>\n",
       "      <td>False</td>\n",
       "      <td>False</td>\n",
       "      <td>False</td>\n",
       "    </tr>\n",
       "  </tbody>\n",
       "</table>\n",
       "</div>"
      ],
      "text/plain": [
       "       work      gNOx  engine_speed_criteria  torq_criteria  \\\n",
       "0  0.000000  0.315958                  False          False   \n",
       "1 -0.000000  0.284152                  False          False   \n",
       "2  0.000874  0.289916                  False          False   \n",
       "3 -0.000884  0.293036                  False          False   \n",
       "4 -0.001771  0.292426                  False          False   \n",
       "\n",
       "   engine_air_temp_criteria  coolant_temp_criteria  scr_temp_criteria  \\\n",
       "0                     False                  False              False   \n",
       "1                     False                  False              False   \n",
       "2                     False                  False              False   \n",
       "3                     False                  False              False   \n",
       "4                     False                  False              False   \n",
       "\n",
       "   criterion  \n",
       "0      False  \n",
       "1      False  \n",
       "2      False  \n",
       "3      False  \n",
       "4      False  "
      ]
     },
     "execution_count": 32,
     "metadata": {},
     "output_type": "execute_result"
    }
   ],
   "source": [
    "# since we ran the computation all_nox_cols exist\n",
    "df[all_nox_cols].head()"
   ]
  },
  {
   "cell_type": "code",
   "execution_count": 33,
   "metadata": {},
   "outputs": [
    {
     "data": {
      "text/plain": [
       "work                          4959.294403\n",
       "gNOx                         17560.266101\n",
       "engine_speed_criteria       147902.000000\n",
       "torq_criteria                43040.000000\n",
       "engine_air_temp_criteria    136294.000000\n",
       "coolant_temp_criteria       229756.000000\n",
       "scr_temp_criteria           138949.000000\n",
       "criterion                    14380.000000\n",
       "dtype: float64"
      ]
     },
     "execution_count": 33,
     "metadata": {},
     "output_type": "execute_result"
    }
   ],
   "source": [
    "df[all_nox_cols].agg(sum)"
   ]
  },
  {
   "cell_type": "markdown",
   "metadata": {},
   "source": [
    "### Intermediate Results\n",
    "If you want to get the ratio of emissions to positive work for each window and its corresponding length:"
   ]
  },
  {
   "cell_type": "code",
   "execution_count": 32,
   "metadata": {},
   "outputs": [
    {
     "name": "stdout",
     "output_type": "stream",
     "text": [
      "CPU times: user 2.34 s, sys: 152 ms, total: 2.49 s\n",
      "Wall time: 2.44 s\n"
     ]
    }
   ],
   "source": [
    "%%time\n",
    "lt = get_percent_NTE_valid(df, 'torq_criteria')"
   ]
  },
  {
   "cell_type": "code",
   "execution_count": 33,
   "metadata": {},
   "outputs": [
    {
     "data": {
      "text/plain": [
       "window\n",
       "62    (0.359840281147, 33)\n",
       "68    (0.414192976466, 81)\n",
       "70    (0.391215903535, 55)\n",
       "82    (0.442820135961, 80)\n",
       "92    (0.556141478303, 32)\n",
       "dtype: object"
      ]
     },
     "execution_count": 33,
     "metadata": {},
     "output_type": "execute_result"
    }
   ],
   "source": [
    "# index corresponds to the window that satisfies 'window' col in df\n",
    "# tuple := (ratio, length of window)\n",
    "lt.head()"
   ]
  }
 ],
 "metadata": {
  "kernelspec": {
   "display_name": "Python 2",
   "language": "python",
   "name": "python2"
  },
  "language_info": {
   "codemirror_mode": {
    "name": "ipython",
    "version": 2
   },
   "file_extension": ".py",
   "mimetype": "text/x-python",
   "name": "python",
   "nbconvert_exporter": "python",
   "pygments_lexer": "ipython2",
   "version": "2.7.14"
  }
 },
 "nbformat": 4,
 "nbformat_minor": 2
}
